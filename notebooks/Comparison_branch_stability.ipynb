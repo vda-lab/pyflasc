{
 "cells": [
  {
   "cell_type": "markdown",
   "id": "2fa9b72c-cad5-4e7d-bf75-c1a8ba8c8008",
   "metadata": {},
   "source": [
    "# Comparing Branch Stability\n",
    "\n",
    "This notebook aims to answer an overaching questions describing FLASC's behaviour:\n",
    "\n",
    "1. How does FLASC's branch-detection ability compare to kMeans (and HDBSCAN\\*) in\n",
    "   terms of accuracy and stability?\n",
    "\n",
    "To answer this question, we compare the algorithms on a synthetic dataset for\n",
    "which we have ground-truth branch-membership information. To make the comparison\n",
    "fair(ish), we first search for optimal parameter settings. Then, we compare the\n",
    "algorithms using the adjusted rand index (ARI) between the ground-truth and\n",
    "their detected subgroups. ARI measures how well the algorithms segmented the\n",
    "points into the true branch-based subgroups. Finally, we compare the algorithms'\n",
    "stability by measuring how much the detected sub-group centroids move between\n",
    "repeated runs.\n",
    "\n",
    "## Setup\n",
    "Load libraries used:"
   ]
  },
  {
   "cell_type": "code",
   "execution_count": null,
   "id": "de66ada0-ec7e-4f2f-98f6-731b741062c2",
   "metadata": {},
   "outputs": [],
   "source": [
    "%load_ext autoreload\n",
    "%autoreload 2"
   ]
  },
  {
   "cell_type": "code",
   "execution_count": 3,
   "id": "cff282c0-394a-4382-bbf5-205b03a0921f",
   "metadata": {},
   "outputs": [],
   "source": [
    "import itertools\n",
    "import numpy as np\n",
    "import pandas as pd\n",
    "import seaborn as sns\n",
    "from tqdm import trange\n",
    "import matplotlib.pyplot as plt\n",
    "from matplotlib import ticker\n",
    "from matplotlib.colors import LinearSegmentedColormap, BoundaryNorm\n",
    "from _plotting import *\n",
    "\n",
    "%matplotlib inline\n",
    "palette = configure_matplotlib()\n",
    "\n",
    "from scipy import linalg\n",
    "from sklearn.utils import shuffle\n",
    "from sklearn.metrics.cluster import adjusted_rand_score\n",
    "from sklearn.metrics import pairwise_distances\n",
    "\n",
    "from flasc import FLASC\n",
    "from flasc.prediction import branch_centrality_vectors, update_labels_with_branch_centrality, branch_membership_from_centrality\n",
    "from hdbscan import HDBSCAN\n",
    "from sklearn.cluster import KMeans"
   ]
  },
  {
   "cell_type": "markdown",
   "id": "a85d3d61-b03d-47b3-99dd-5b24d572eb47",
   "metadata": {},
   "source": [
    "## Datasets\n",
    "\n",
    "For this comparison to work, we will use datasets with (known) branches that are\n",
    "not detectable as a density-based cluster. Specifically, we use 2D datasets with\n",
    "a single cluster containing three branches arranged in a three-point star. Data\n",
    "points are placed along the branches logarithmically, with the densest regions\n",
    "at the center of the cluster. This construction avoids placing a local density\n",
    "maximum in the branches, intentionally making it difficult for HDBSCAN\\* to\n",
    "detect them!"
   ]
  },
  {
   "cell_type": "code",
   "execution_count": 3,
   "id": "3f33f78c-9461-4312-a304-27cb319eb0e9",
   "metadata": {},
   "outputs": [],
   "source": [
    "def make_dataset(num_samples=100, length=2, scale=0.02):\n",
    "    \"\"\"Creates a dataset with three branches.\n",
    "\n",
    "    Datapoints are spaced logarithmically along the branch length,\n",
    "    with the high-density part at the ends of the branches.\n",
    "    \"\"\"\n",
    "\n",
    "    def rotation(axis=[0, 0, 1], theta=0):\n",
    "        return linalg.expm(np.cross(np.eye(3), axis / linalg.norm(axis) * theta))\n",
    "\n",
    "    def rotate(X, axis=[0, 0, 1], theta=0):\n",
    "        M = rotation(axis=axis, theta=theta)\n",
    "        data = np.hstack((X, np.zeros((X.shape[0], 1), dtype=X.dtype)))\n",
    "        return (M @ data.T).T[:, :2]\n",
    "\n",
    "    max_exp = np.log(length)\n",
    "    x = np.exp(np.linspace(0, max_exp, num_samples)) - 1\n",
    "    branch = np.hstack((x[None].T, np.zeros((x.shape[0], 1), dtype=x.dtype)))\n",
    "    X = np.vstack(\n",
    "        (\n",
    "            rotate(branch, theta=np.pi / 2),\n",
    "            rotate(branch, theta=2 * np.pi / 3 + np.pi / 2),\n",
    "            rotate(branch, theta=4 * np.pi / 3 + np.pi / 2),\n",
    "        )\n",
    "    )\n",
    "    X += np.random.normal(scale=scale, size=X.shape)\n",
    "    y = np.repeat([0, 1, 2], num_samples)\n",
    "    X, y = shuffle(X, y)\n",
    "    return X, y\n",
    "\n",
    "\n",
    "def _centroid(X, y):\n",
    "    \"\"\"Computes ground-truth average positions.\"\"\"\n",
    "    return np.vstack([np.average(X[y == i, :], axis=0) for i in range(3)])"
   ]
  },
  {
   "cell_type": "markdown",
   "id": "fa345675",
   "metadata": {},
   "source": [
    "The datasets are parameterized by two values: the branch length and noise ratio.\n",
    "Here, the branch length ($b_l$) controls the difference in density between the\n",
    "cluster's center and the branches' ends. The noise ratio $n_r$ controls\n",
    "the standard deviation $\\sigma$ of Gaussian noise applied to the data points: \n",
    "$$\n",
    "    n_r = \\frac{4 \\sigma}{\\sqrt{\\frac{1}{2}} b_l},\n",
    "$$\n",
    "Practically, $\\pm 90\\%$ of points move less than $n_r b_l$ \n",
    "away from their original point after noise is applied. \n",
    "\n",
    "Both parameters are varied to explore a wide range of datasets with this \n",
    "branching pattern."
   ]
  },
  {
   "cell_type": "code",
   "execution_count": 5,
   "id": "6108da7e-5d68-46b2-be0f-e76cdd0cf6fd",
   "metadata": {},
   "outputs": [],
   "source": [
    "# Dataset parameters\n",
    "lengths = np.unique(np.round(np.exp(np.linspace(np.log(2), np.log(100), 10))))\n",
    "ratios = (np.exp(np.linspace(0, np.log(2), 10)) - 1)\n",
    "repeats = np.arange(10)\n",
    "\n",
    "datasets = pd.DataFrame([\n",
    "        x for x in itertools.product(\n",
    "            repeats, \n",
    "            ratios,\n",
    "            lengths, \n",
    "        )\n",
    "    ], columns=[\n",
    "        'repeat', 'noise_ratio', 'branch_length'\n",
    "    ]\n",
    ")\n",
    "samples = tuple(zip(*[\n",
    "    make_dataset(\n",
    "        length=datasets.branch_length[i], \n",
    "        scale=(datasets.branch_length[i] * datasets.noise_ratio[i]) / 4 * np.sqrt(1/2)\n",
    "    )\n",
    "    for i in range(datasets.shape[0])\n",
    "]))\n",
    "datasets['X'] = list(samples[0])\n",
    "datasets['y'] = list(samples[1])\n",
    "datasets['centroids'] = [ \n",
    "    _centroid(datasets.X[i], datasets.y[i]) for i in range(datasets.shape[0])\n",
    "]\n",
    "datasets.branch_length = datasets.branch_length.apply(int)\n",
    "datasets.to_pickle('./data/generated/branch_stability_data.pickle')"
   ]
  },
  {
   "cell_type": "markdown",
   "id": "62e4139d-df6b-4f19-968d-4d2d8e45a7a3",
   "metadata": {},
   "source": [
    "## Parameter Sweeps\n",
    "\n",
    "### FLASC\n",
    "\n",
    "First, we analyze FLASC's performance on the datasets. We set several\n",
    "parameters to fixed values to ensure a single cluster is detected. Unlike \n",
    "HDBSCAN\\*, FLASC will give all points the 0-label when a single cluster \n",
    "is detected."
   ]
  },
  {
   "cell_type": "code",
   "execution_count": 6,
   "id": "e9dcfc0c-9996-416d-bbb1-b15709e26525",
   "metadata": {},
   "outputs": [],
   "source": [
    "# Fixed parameters\n",
    "kwargs = {\n",
    "    'min_samples': 5,\n",
    "    'min_cluster_size': 25,\n",
    "    'allow_single_cluster': True\n",
    "}"
   ]
  },
  {
   "cell_type": "markdown",
   "id": "425b556f",
   "metadata": {},
   "source": [
    "Other parameters are varied, to analyze FLASC's stability and parameter\n",
    "sensitivity. We store flasc's final labelling for each combination of \n",
    "parameter values."
   ]
  },
  {
   "cell_type": "code",
   "execution_count": null,
   "id": "04cf60b9-b071-47de-b52e-db1c711d9f91",
   "metadata": {},
   "outputs": [],
   "source": [
    "# Algorithm parameters\n",
    "min_branch_size = np.arange(2, 25, 2)\n",
    "branch_selection_method = ['eom', 'leaf']\n",
    "branch_detection_method = ['full', 'core']\n",
    "params = pd.DataFrame([\n",
    "    x for x in itertools.product(\n",
    "        repeats, ratios, lengths, min_branch_size,\n",
    "        branch_detection_method, branch_selection_method\n",
    "    )\n",
    "], columns=[\n",
    "    'repeat', 'noise_ratio', 'branch_length', \n",
    "    'min_branch_size', 'branch_detection_method',\n",
    "    'branch_selection_method'\n",
    "]\n",
    ")\n",
    "params['algorithm'] = ['FLASC' for _ in range(params.shape[0])]\n",
    "params.branch_length = params.branch_length.apply(int)"
   ]
  },
  {
   "cell_type": "markdown",
   "id": "f1dc4595-3d4e-4d62-85ec-84a2b3f561df",
   "metadata": {},
   "source": [
    "The cell below actually runs FLASC on the dataset and prepares for\n",
    "two metrics on the resulting labelling: (1) the adjusted rand index, \n",
    "a metric indicating how well FLASC's labelling reflects the ground truth, and\n",
    "(2) the centroid spread, a metric indicating how varied FLASC's labelling is\n",
    "across the different samples with the same parameters. Both metrics will be \n",
    "explained in more detail below.\n",
    "\n",
    "Running this cell takes about 20 minutes."
   ]
  },
  {
   "cell_type": "code",
   "execution_count": 8,
   "id": "90e0dcf7-6489-4c52-8390-33d4f2eff6f5",
   "metadata": {},
   "outputs": [
    {
     "name": "stderr",
     "output_type": "stream",
     "text": [
      "  0%|          | 0/48000 [00:00<?, ?it/s]"
     ]
    },
    {
     "name": "stderr",
     "output_type": "stream",
     "text": [
      "100%|██████████| 48000/48000 [05:23<00:00, 148.45it/s]\n"
     ]
    }
   ],
   "source": [
    "def run_setting(p):\n",
    "    \"\"\"Runs flasc on a dataset.\"\"\"\n",
    "    # Extract Dataset properties\n",
    "    subset = datasets[\n",
    "        (datasets.repeat == p[\"repeat\"])\n",
    "        & (datasets.noise_ratio == p.noise_ratio)\n",
    "        & (datasets.branch_length == p.branch_length)\n",
    "    ].iloc[0]\n",
    "    X = subset.X\n",
    "    y = subset.y\n",
    "    truth = subset.centroids\n",
    "\n",
    "    # Run flasc\n",
    "    c = FLASC(\n",
    "        min_branch_size=p.min_branch_size,\n",
    "        branch_detection_method=p.branch_detection_method,\n",
    "        branch_selection_method=p.branch_selection_method,\n",
    "        **kwargs,\n",
    "    ).fit(X)\n",
    "\n",
    "    # Compute geodesic membership & probabilities\n",
    "    centrality_vectors = branch_centrality_vectors(c)\n",
    "    labels, branch_labels = update_labels_with_branch_centrality(c, centrality_vectors)\n",
    "\n",
    "    # Compute ARI\n",
    "    ari = adjusted_rand_score(labels, y)\n",
    "\n",
    "    # Compute centroids\n",
    "    centroids = []\n",
    "    num_labels = len(np.unique(labels)) - int(-1 in labels)\n",
    "    for l in range(num_labels):\n",
    "        mask = labels == l\n",
    "        centroids.append(np.average(X[mask, :], weights=c.probabilities_[mask], axis=0))\n",
    "\n",
    "    # Assign centroids to ground-truth centroids\n",
    "    dists = pairwise_distances(centroids, truth)\n",
    "    order = np.argmin(dists, axis=1)\n",
    "\n",
    "    # Return everything\n",
    "    return (labels, c.probabilities_, centroids, order, ari, num_labels)\n",
    "\n",
    "\n",
    "(\n",
    "    params[\"labels\"],\n",
    "    params[\"probabilities\"],\n",
    "    params[\"centroids\"],\n",
    "    params[\"true_labels\"],\n",
    "    params[\"ari\"],\n",
    "    params[\"num_labels\"],\n",
    ") = zip(*[run_setting(params.iloc[i]) for i in trange(params.shape[0])])\n",
    "params.to_pickle(\"./data/generated/branch_stability_labelling_flasc.pickle\")"
   ]
  },
  {
   "cell_type": "markdown",
   "id": "84887394",
   "metadata": {},
   "source": [
    "### HDBSCAN\\*\n",
    "\n",
    "Second, we analyze HDBSCAN\\* performance on the dataset. The *min_samples* \n",
    "parameter is fixed to the same value as used by FLASC"
   ]
  },
  {
   "cell_type": "code",
   "execution_count": 9,
   "id": "69e3f6d7",
   "metadata": {},
   "outputs": [],
   "source": [
    "# Fixed parameters\n",
    "kwargs = {\n",
    "    'min_samples': int(5),\n",
    "}"
   ]
  },
  {
   "cell_type": "markdown",
   "id": "4e611132",
   "metadata": {},
   "source": [
    "Other parameters are varied to find the best-performing setting, giving HDBSCAN\\*\n",
    "a fair chance to find the branch-subgroups."
   ]
  },
  {
   "cell_type": "code",
   "execution_count": 10,
   "id": "e7f901a2",
   "metadata": {},
   "outputs": [],
   "source": [
    "# Algorithm parameters\n",
    "min_cluster_size = np.arange(2, 25, 2)\n",
    "cluster_selection_method = ['eom', 'leaf']\n",
    "params = pd.DataFrame([\n",
    "    x for x in itertools.product(\n",
    "        repeats, ratios, lengths, min_cluster_size,\n",
    "        cluster_selection_method,\n",
    "    )\n",
    "], columns=[\n",
    "    'repeat', 'noise_ratio', 'branch_length', \n",
    "    'min_cluster_size', 'cluster_selection_method'\n",
    "])\n",
    "params['algorithm'] = ['HDBSCAN\\*' for _ in range(params.shape[0])]\n",
    "params.branch_length = params.branch_length.apply(int)"
   ]
  },
  {
   "cell_type": "markdown",
   "id": "d2693f72",
   "metadata": {},
   "source": [
    "The cell below actually evaluates HDBSCAN\\* and computes the adjusted rand index metric in about 10 minutes!"
   ]
  },
  {
   "cell_type": "code",
   "execution_count": 11,
   "id": "a6daad18",
   "metadata": {},
   "outputs": [
    {
     "name": "stderr",
     "output_type": "stream",
     "text": [
      "  0%|          | 0/24000 [00:00<?, ?it/s]"
     ]
    },
    {
     "name": "stderr",
     "output_type": "stream",
     "text": [
      "100%|██████████| 24000/24000 [01:46<00:00, 226.22it/s]\n"
     ]
    }
   ],
   "source": [
    "def run_setting(p):\n",
    "    # Extract dataset\n",
    "    subset = datasets\\\n",
    "        .query(f'repeat == {p[\"repeat\"]}')\\\n",
    "        .query(f'noise_ratio == {p.noise_ratio}')\\\n",
    "        .query(f'branch_length == {p.branch_length}').iloc[0]\n",
    "    X = subset.X\n",
    "    y = subset.y\n",
    "\n",
    "    # Run HDBSCAN\n",
    "    c = HDBSCAN(\n",
    "        min_cluster_size=int(p.min_cluster_size),\n",
    "        cluster_selection_method=p.cluster_selection_method,\n",
    "        **kwargs\n",
    "    ).fit(X)\n",
    "    \n",
    "    # Compute ARI\n",
    "    ari = adjusted_rand_score(c.labels_, y)\n",
    "    num_labels = len(np.unique(c.labels_)) - int(-1 in c.labels_)\n",
    "    return (\n",
    "        c.labels_, c.probabilities_, ari, num_labels\n",
    "    )\n",
    "\n",
    "(\n",
    "    params['labels'], \n",
    "    params['probabilities'],\n",
    "    params['ari'],\n",
    "    params['num_labels']\n",
    ") = zip(*[\n",
    "    run_setting(params.iloc[i]) for i in trange(params.shape[0])\n",
    "])\n",
    "params.to_pickle('./data/generated/branch_stability_labelling_hdbscan.pickle')"
   ]
  },
  {
   "cell_type": "markdown",
   "id": "b6f05411",
   "metadata": {},
   "source": [
    "### k-Means\n",
    "\n",
    "Finally, we run kMeans on this dataset with $k=3$ as optimal value."
   ]
  },
  {
   "cell_type": "code",
   "execution_count": 12,
   "id": "f700b673",
   "metadata": {},
   "outputs": [],
   "source": [
    "# Fixed parameters\n",
    "kwargs = {\n",
    "    'n_clusters': int(3),\n",
    "}"
   ]
  },
  {
   "cell_type": "markdown",
   "id": "7c2bd3b8",
   "metadata": {},
   "source": [
    "kMeans does not have other parameters to tune."
   ]
  },
  {
   "cell_type": "code",
   "execution_count": 13,
   "id": "25ffc183",
   "metadata": {},
   "outputs": [],
   "source": [
    "# Algorithm parameters\n",
    "params = pd.DataFrame(\n",
    "    [x for x in itertools.product(repeats, ratios, lengths)],\n",
    "    columns=[\"repeat\", \"noise_ratio\", \"branch_length\"],\n",
    ")\n",
    "params[\"algorithm\"] = \"kMeans\"\n",
    "params.branch_length = params.branch_length.apply(int)"
   ]
  },
  {
   "cell_type": "markdown",
   "id": "4260453c",
   "metadata": {},
   "source": [
    "The cell below actually evaluates kMeans and computes the adjusted rand index metric in about x minutes!"
   ]
  },
  {
   "cell_type": "code",
   "execution_count": null,
   "id": "feb893e2",
   "metadata": {},
   "outputs": [],
   "source": [
    "def run_setting(p):\n",
    "    # Extract dataset\n",
    "    subset = (\n",
    "        datasets.query(f'repeat == {p[\"repeat\"]}')\n",
    "        .query(f\"noise_ratio == {p.noise_ratio}\")\n",
    "        .query(f\"branch_length == {p.branch_length}\")\n",
    "        .iloc[0]\n",
    "    )\n",
    "    X = subset.X\n",
    "    y = subset.y\n",
    "    truth = subset.centroids\n",
    "\n",
    "    # Run HDBSCAN\n",
    "    c = KMeans(**kwargs).fit(X)\n",
    "\n",
    "    # Compute ARI\n",
    "    ari = adjusted_rand_score(c.labels_, y)\n",
    "    num_labels = len(np.unique(c.labels_)) - int(-1 in c.labels_)\n",
    "\n",
    "    # Compute centroids\n",
    "    centroids = []\n",
    "    num_labels = len(np.unique(c.labels_)) - int(-1 in c.labels_)\n",
    "    for l in range(num_labels):\n",
    "        mask = c.labels_ == l\n",
    "        centroids.append(np.average(X[mask, :], axis=0))\n",
    "\n",
    "    # Assign centroids to ground-truth centroids\n",
    "    dists = pairwise_distances(centroids, truth)\n",
    "    order = np.argmin(dists, axis=1)\n",
    "\n",
    "    return (c.labels_, centroids, order, ari, num_labels)\n",
    "\n",
    "\n",
    "(\n",
    "    params[\"labels\"],\n",
    "    params[\"centroids\"],\n",
    "    params[\"true_labels\"],\n",
    "    params[\"ari\"],\n",
    "    params[\"num_labels\"],\n",
    ") = zip(*[run_setting(params.iloc[i]) for i in trange(params.shape[0])])\n",
    "params.to_pickle(\"./data/generated/branch_stability_labelling_kmeans.pickle\")"
   ]
  },
  {
   "cell_type": "markdown",
   "id": "4fd3707a-130e-4b46-accc-bbe24c741ff8",
   "metadata": {
    "tags": []
   },
   "source": [
    "## Results\n",
    "\n",
    "\n",
    "First, we read in the data files so previous runs can be re-plotted and specify \n",
    "human readable names for the columns. Names with an underscore result in an error \n",
    "because Latex is used to render text in the images. To disable this, edit\n",
    "`./notebooks/_plotting.py`!"
   ]
  },
  {
   "cell_type": "code",
   "execution_count": 4,
   "id": "d4f44ea4-f91d-4b53-928d-6e25dbed0e1a",
   "metadata": {},
   "outputs": [],
   "source": [
    "datasets = pd.read_pickle('./data/generated/branch_stability_data.pickle')\n",
    "fparams = pd.read_pickle('./data/generated/branch_stability_labelling_flasc.pickle')\n",
    "hparams = pd.read_pickle('./data/generated/branch_stability_labelling_hdbscan.pickle')\n",
    "mparams = pd.read_pickle('./data/generated/branch_stability_labelling_kmeans.pickle')\n",
    "ratios = datasets.noise_ratio.unique()\n",
    "lengths = datasets.branch_length.unique()"
   ]
  },
  {
   "cell_type": "code",
   "execution_count": 5,
   "id": "28f64749-9dc1-48af-89f1-2616f1b257a4",
   "metadata": {},
   "outputs": [],
   "source": [
    "display_names = {\n",
    "    'columns': {\n",
    "        'branch_length': 'Branch length',\n",
    "        'num_clusters': 'Num clusters',\n",
    "        'num_labels': 'Num labels',\n",
    "        'num_branches': 'Num branches',\n",
    "        'noise_ratio': 'Noise ratio',\n",
    "        'min_branch_size': 'Min branch size',\n",
    "        'min_cluster_size': 'Min cluster size',\n",
    "        'branch_detection_method': 'Graph',\n",
    "        'branch_selection_method': 'Selection',\n",
    "        'cluster_selection_method': 'Selection',\n",
    "        'ari': 'ARI',\n",
    "        'algorithm': 'Algorithm',\n",
    "        'centroid_spread': 'Centroid spread'\n",
    "    }\n",
    "}"
   ]
  },
  {
   "cell_type": "markdown",
   "id": "87eb55a7",
   "metadata": {},
   "source": [
    "### Computing Centroid Spread\n",
    "\n",
    "First, we try to find out for which parameter settings the algorithms perform\n",
    "best on this dataset before we compare the algorithms to each other. For this\n",
    "purpose we use two metrics, the *adjusted rand index* and *centroid spread*.\n",
    "\n",
    "The *adjusted rand index* (ARI) is a quality measure for clustering algorithms.\n",
    "I interpret it as using the clustering as classifier and computing how well data\n",
    "points of the same class are put into the same cluster. We use this metric to\n",
    "determine which parameter settings work best.\n",
    "\n",
    "The *centroid spread*  measures how much the subgroups' weighted average vary\n",
    "between datasets generated with the same parameters. It measures how stable\n",
    "FLASC's output is. The spread is expressed in terms of branch length $b_l$ to be\n",
    "able to compare the different datasets. Specifically. it is calculated by:\n",
    "- Computing the ground-truth branch average (unweighted)\n",
    "- Computing the detected subgroup averages (weighted) (= centroid)\n",
    "- Assigning each centroid to the closest ground-truth centroid on that dataset.\n",
    "- Computing the average centroid coordinates (unweighted) for all centroids\n",
    "  assigned to the same ground-truth centroid of datasets with the same branch\n",
    "  length and noise ratio. (= root)\n",
    "- Computing the distance of each centroid to their root in terms of branch\n",
    "  length $b_l$. The 50 and 95 percentile distance are used to quantify and\n",
    "  visualize the centroid spread."
   ]
  },
  {
   "cell_type": "code",
   "execution_count": 6,
   "id": "92a27df8",
   "metadata": {},
   "outputs": [
    {
     "name": "stderr",
     "output_type": "stream",
     "text": [
      "100%|██████████| 4800/4800 [00:01<00:00, 3814.02it/s]\n",
      "100%|██████████| 100/100 [00:00<00:00, 1898.97it/s]\n"
     ]
    }
   ],
   "source": [
    "def _centroid_spread(p):\n",
    "    # Compute root\n",
    "    root = [\n",
    "        np.average(p.centroids[p.true_labels == k, :], axis=0) \n",
    "        if np.sum(p.true_labels == k) > 0 else None \n",
    "        for k in range(3)\n",
    "    ]\n",
    "    # Subtract roots from centroids and scale by branch length\n",
    "    offsets = np.asarray([root[k] for k in p.true_labels])\n",
    "    centralized = (p.centroids - offsets) / p.branch_length\n",
    "    # Compute spread\n",
    "    spread = pairwise_distances(np.asarray([[0, 0]]), centralized)[0,:]\n",
    "    return centralized, np.asarray(root), spread\n",
    "    \n",
    "\n",
    "# FLASC: Merge repeats into single column and compute spread\n",
    "fgrouped = fparams.groupby(by=[\n",
    "    'branch_length', 'noise_ratio', 'min_branch_size', \n",
    "    'branch_detection_method','branch_selection_method'\n",
    "]).agg(\n",
    "    centroids=pd.NamedAgg(column=\"centroids\", aggfunc=lambda x: np.concatenate(list(x))),\n",
    "    true_labels=pd.NamedAgg(column=\"true_labels\", aggfunc=lambda x: np.concatenate(list(x))),\n",
    ").reset_index()\n",
    "(fgrouped['centralized_centroids'], fgrouped['roots'], fgrouped['centroid_spread']) = zip(*[\n",
    "    _centroid_spread(fgrouped.iloc[i]) for i in trange(fgrouped.shape[0])\n",
    "]) \n",
    "\n",
    "# kMeans: Merge repeats into single column and compute spread\n",
    "kgrouped = fparams.groupby(by=[\n",
    "    'branch_length', 'noise_ratio'\n",
    "]).agg(\n",
    "    centroids=pd.NamedAgg(column=\"centroids\", aggfunc=lambda x: np.concatenate(list(x))),\n",
    "    true_labels=pd.NamedAgg(column=\"true_labels\", aggfunc=lambda x: np.concatenate(list(x))),\n",
    ").reset_index()\n",
    "\n",
    "# Compute roots and spread\n",
    "(kgrouped['centralized_centroids'], kgrouped['roots'], kgrouped['centroid_spread']) = zip(*[\n",
    "    _centroid_spread(kgrouped.iloc[i]) for i in trange(kgrouped.shape[0])\n",
    "]) "
   ]
  },
  {
   "cell_type": "markdown",
   "id": "a63659e5",
   "metadata": {},
   "source": [
    "The figures illustrate how the centroid spread is computed:"
   ]
  },
  {
   "cell_type": "code",
   "execution_count": 19,
   "id": "f002dcad",
   "metadata": {},
   "outputs": [
    {
     "data": {
      "image/png": "[encoded data removed]",
      "text/plain": [
       "<Figure size 820.866x205.217 with 4 Axes>"
      ]
     },
     "metadata": {},
     "output_type": "display_data"
    }
   ],
   "source": [
    "# Pick a dataset setting\n",
    "r = ratios[-5]\n",
    "l = lengths[-5]        \n",
    "\n",
    "# Extract dataset properties\n",
    "s = datasets\\\n",
    "    .query(f'repeat == 4')\\\n",
    "    .query(f'noise_ratio == {r}')\\\n",
    "    .query(f'branch_length == {l}').iloc[0]\n",
    "X = s.X\n",
    "y = s.y\n",
    "truths = s.centroids\n",
    "\n",
    "# Extract FLASC properties\n",
    "s = fgrouped.query(\n",
    "    f'noise_ratio == {r} & '\n",
    "    f'branch_length == {l} & '\n",
    "    'min_branch_size == 12 &  '\n",
    "    'branch_detection_method == \"core\" & '\n",
    "    'branch_selection_method==\"leaf\"'\n",
    ").iloc[0]\n",
    "centroids = s.centroids\n",
    "labels = s.true_labels\n",
    "roots = s.roots\n",
    "\n",
    "# Create figure\n",
    "sized_fig(1, 1 / 4)\n",
    "\n",
    "plt.subplot(1, 4, 1)\n",
    "plt.scatter(X.T[0], X.T[1], 0.1, y, cmap='tab10', vmax=10, label='point')\n",
    "plt.scatter(truths.T[0], truths.T[1], 20, color='k', marker='x', label='true centriod')\n",
    "frame_off()\n",
    "lims = [0.6 * l for l in plt.xlim()]\n",
    "plt.xlim(lims)\n",
    "plt.ylim(lims)\n",
    "plt.annotate(\n",
    "    'True centroid', \n",
    "    xytext=(np.median(truths.T[0]), np.percentile(X.T[1], 2)), \n",
    "    xy=truths[1, :], \n",
    "    fontsize=8, \n",
    "    ha='center', \n",
    "    va='center',\n",
    "    arrowprops=dict(arrowstyle='->', color='k', linewidth=0.5)\n",
    ")\n",
    "\n",
    "plt.subplot(1, 4, 2)\n",
    "plt.scatter(centroids.T[0], centroids.T[1], 2, labels, cmap='tab10', vmax=10, label='found centroid')\n",
    "plt.scatter(truths.T[0], truths.T[1], 20, color='k', marker='x', label='true centriod')\n",
    "frame_off()\n",
    "plt.xlim(lims)\n",
    "plt.ylim(lims)\n",
    "plt.text(\n",
    "    s='Predicted centroids', \n",
    "    x=np.percentile(X.T[0], 5),\n",
    "    y=np.percentile(X.T[1], 90), \n",
    "    fontsize=8, \n",
    "    ha='center', \n",
    "    va='center',\n",
    ")\n",
    "plt.text(\n",
    "    s='are assigned to', \n",
    "    x=np.percentile(X.T[0], 5),\n",
    "    y=np.percentile(X.T[1], 90) - 2, \n",
    "    fontsize=8, \n",
    "    ha='center', \n",
    "    va='center',\n",
    ")\n",
    "plt.annotate(\n",
    "    'closest true centroid', \n",
    "    xytext=(np.percentile(X.T[0], 5), np.percentile(X.T[1], 90)-4), \n",
    "    xy=centroids[13, :], \n",
    "    fontsize=8, \n",
    "    ha='center', \n",
    "    va='center',\n",
    "    arrowprops=dict(arrowstyle='->', color='k', linewidth=0.5)\n",
    ")\n",
    "\n",
    "plt.subplot(1, 4, 3)\n",
    "for r in roots:\n",
    "    plt.gca().annotate(\"\", xy=(0, 0), xytext=r,\n",
    "                       arrowprops=dict(arrowstyle=\"->\", color='k', linewidth=0.5))\n",
    "plt.scatter(centroids.T[0], centroids.T[1], 2, labels, cmap='tab10', vmax=10, label='found centroid')\n",
    "frame_off()\n",
    "plt.xlim(lims)\n",
    "plt.ylim(lims)\n",
    "plt.text(\n",
    "    s='Predicted centroids', \n",
    "    x=np.percentile(X.T[0], 5),\n",
    "    y=np.percentile(X.T[1], 90), \n",
    "    fontsize=8, \n",
    "    ha='center', \n",
    "    va='center',\n",
    ")\n",
    "plt.text(\n",
    "    s='are moved to center', \n",
    "    x=np.percentile(X.T[0], 5),\n",
    "    y=np.percentile(X.T[1], 90) - 2, \n",
    "    fontsize=8, \n",
    "    ha='center', \n",
    "    va='center',\n",
    ")\n",
    "plt.annotate(\n",
    "    'per true centroid', \n",
    "    xytext=(np.percentile(X.T[0], 5), np.percentile(X.T[1], 90)-4), \n",
    "    xy=roots[1, :], \n",
    "    fontsize=8, \n",
    "    ha='center', \n",
    "    va='center',\n",
    "    arrowprops=dict(arrowstyle='->', color='k', linewidth=0.5)\n",
    ")\n",
    "\n",
    "plt.subplot(1, 4, 4)\n",
    "centered = centroids - roots[labels]\n",
    "radius = np.percentile(pairwise_distances(np.asarray([[0, 0]]), centered), 95)\n",
    "circle = plt.Circle((0, 0), \n",
    "    radius=radius, \n",
    "    fill=False, \n",
    "    color='k',\n",
    "    linewidth=0.5)\n",
    "plt.gca().add_patch(circle)\n",
    "plt.scatter(centered.T[0], centered.T[1], 2, labels, cmap='tab10', vmax=10, label='found centroid')\n",
    "frame_off()\n",
    "plt.xlim(lims)\n",
    "plt.ylim(lims)\n",
    "plt.text(\n",
    "    s='Centroid spread', \n",
    "    x=np.percentile(X.T[0], 50),\n",
    "    y=np.percentile(X.T[1], 94), \n",
    "    fontsize=8, \n",
    "    ha='center', \n",
    "    va='center',\n",
    ")\n",
    "plt.text(\n",
    "    s='measures distances', \n",
    "    x=np.percentile(X.T[0], 50),\n",
    "    y=np.percentile(X.T[1], 94) - 2, \n",
    "    fontsize=8, \n",
    "    ha='center', \n",
    "    va='center',\n",
    ")\n",
    "plt.annotate(\n",
    "    'from the center', \n",
    "    xytext=(np.percentile(X.T[0], 50), np.percentile(X.T[1], 94)-4), \n",
    "    xy=(0, radius), \n",
    "    fontsize=8, \n",
    "    ha='center', \n",
    "    va='center',\n",
    "    arrowprops=dict(arrowstyle='->', color='k', linewidth=0.5)\n",
    ")\n",
    "\n",
    "plt.subplots_adjust(0, 0, 1, 1)\n",
    "plt.savefig('./images/branch_stability_centroid_spread_explainer.pdf', pad_inches=0)\n",
    "plt.show()"
   ]
  },
  {
   "cell_type": "markdown",
   "id": "0f1089e3-e4ca-41ce-b3ee-0a867150c2ba",
   "metadata": {},
   "source": [
    "### Optimal parameters\n",
    "\n",
    "In this section, we try to find out for which parameters the algorithms perform\n",
    "best.\n",
    "\n",
    "#### FLASC\n",
    "\n",
    "In the figure below, the branch detection and branch selection combinations are\n",
    "compared by their ARI value over the *min branch size* parameter. The selection\n",
    "method does not appear to make much difference. The *core* detection method\n",
    "performs best on this dataset. This is expected, because the center-subgroup,\n",
    "detected by FLASC, is smaller in the *core* detection method than in the *full*\n",
    "detection method. Most confusion of points happens in the center, so the larger\n",
    "the center the lower the ARI! At lower *min branch size* values, the ARI value\n",
    "decreases, probably because too many branches are detected with those settings.\n",
    "\n",
    "If these values look low, remember that they are averaged over all branch lengths\n",
    "and noise ratios! Also, the shaded areas show the 95\\% confidence interval of the \n",
    "mean, not the standard deviation!!"
   ]
  },
  {
   "cell_type": "code",
   "execution_count": 7,
   "id": "8d2d031e",
   "metadata": {},
   "outputs": [
    {
     "data": {
      "image/png": "[encoded data removed]",
      "text/plain": [
       "<Figure size 273.622x273.622 with 1 Axes>"
      ]
     },
     "metadata": {},
     "output_type": "display_data"
    }
   ],
   "source": [
    "sized_fig(1/3, aspect=1)\n",
    "sns.lineplot(\n",
    "    fparams.rename(**display_names), \n",
    "    x='Min branch size', y='ARI', hue='Graph', \n",
    "    style='Selection', palette='tab10', hue_order=[\"full\", \"core\"])\n",
    "l = plt.legend(loc='best', ncol=2)\n",
    "adjust_legend_subtitles(l)\n",
    "plt.ylim([0, 1])\n",
    "plt.xticks([4, 8, 12, 16, 20, 24])\n",
    "plt.yticks([0, 0.2, 0.4, 0.6, 0.8, 1])\n",
    "plt.ylabel('ARI')\n",
    "plt.subplots_adjust(0.23, 0.2, 0.99, .99)\n",
    "plt.show()"
   ]
  },
  {
   "cell_type": "markdown",
   "id": "33598fa5",
   "metadata": {},
   "source": [
    "The next figure compares the same variables on the centroid spread. Here,\n",
    "lower values are better. Clearly the *core* detection method performs better, it \n",
    "has a lower cluster spread but is more sensitive to low *min branch size* values.\n",
    "\n",
    "For comparing FLASC to HDBSCAN\\* we will use the following settings:\n",
    "- *min branch length* = 12\n",
    "- *branch detection method* = *core*\n",
    "- *branch selection method* = *leaf*"
   ]
  },
  {
   "cell_type": "code",
   "execution_count": 8,
   "id": "8f64a4c8",
   "metadata": {},
   "outputs": [
    {
     "data": {
      "image/png": "[encoded data removed]",
      "text/plain": [
       "<Figure size 273.622x273.622 with 1 Axes>"
      ]
     },
     "metadata": {},
     "output_type": "display_data"
    }
   ],
   "source": [
    "sized_fig(1/3, aspect=1)\n",
    "sns.lineplot(\n",
    "    fgrouped.explode('centroid_spread').rename(**display_names), \n",
    "    x='Min branch size', y='Centroid spread', hue='Graph', \n",
    "    style='Selection', palette='tab10', hue_order=[\"full\", \"core\"]\n",
    ")\n",
    "l = plt.legend(loc='best', ncol=2)\n",
    "adjust_legend_subtitles(l)\n",
    "plt.ylim([0, 0.22])\n",
    "plt.xticks([4, 8, 12, 16, 20, 24])\n",
    "plt.ylabel('Centroid spread ($b_l$)')\n",
    "plt.subplots_adjust(0.27, 0.2, 0.99, .99)\n",
    "plt.show()"
   ]
  },
  {
   "cell_type": "markdown",
   "id": "96f3214f",
   "metadata": {},
   "source": [
    "#### HDBSCAN\\*\n",
    "In this section, we try to find out for which parameters HDBSCAN\\* performs\n",
    "best.\n",
    "\n",
    "In the figure below, HDBSCAN\\*'s average ARI value is shown for the different\n",
    "*cluster selection methods* over the *min cluster size* parameter. Although the\n",
    "ARI values are low, there is a distinct peak at *min cluster size* = 8 with\n",
    "*cluster selection method* = *leaf*. \n",
    "\n",
    "The conclusion here should basically be that we succeeded in generating groups\n",
    "that are not detectable as density-based cluster!"
   ]
  },
  {
   "cell_type": "code",
   "execution_count": 9,
   "id": "22261390",
   "metadata": {},
   "outputs": [
    {
     "data": {
      "image/png": "[encoded data removed]",
      "text/plain": [
       "<Figure size 273.622x273.622 with 1 Axes>"
      ]
     },
     "metadata": {},
     "output_type": "display_data"
    }
   ],
   "source": [
    "sized_fig(1/3, aspect=1)\n",
    "sns.lineplot(\n",
    "    hparams.rename(**display_names), \n",
    "    x='Min cluster size', y='ARI', style='Selection',\n",
    ")\n",
    "l = plt.legend(title='Selection', loc='best')\n",
    "adjust_legend_subtitles(l)\n",
    "plt.ylim([0, 1])\n",
    "plt.xticks([4, 8, 12, 16, 20, 24])\n",
    "# plt.yticks([0, 0.2, 0.4, 0.6])\n",
    "plt.ylabel('ARI')\n",
    "plt.subplots_adjust(0.27, 0.2, 0.99, .99)\n",
    "plt.show()"
   ]
  },
  {
   "cell_type": "markdown",
   "id": "583ce243-2586-48c4-aa64-9cd9b8d07554",
   "metadata": {
    "tags": []
   },
   "source": [
    "### Visualize labeling\n",
    "\n",
    "We show a selection of the labellings the algorithms created to understand how\n",
    "they behave on this data. We'll use the optimal parameters identified previously\n",
    "to get the best view of each algorithm. FLASC neatly separates points by their\n",
    "branch but makes some 'errors' compared to the ground-truth in the center, where\n",
    "points are not closest to the branch they belong to. kMeans also detects the\n",
    "branches as subgroups, but puts the center in one branch. HDBSCAN\\* does not\n",
    "recover the branches as subgroups because there is no consistent density maximum\n",
    "in the branches."
   ]
  },
  {
   "cell_type": "code",
   "execution_count": 18,
   "id": "0bfab56f",
   "metadata": {},
   "outputs": [
    {
     "data": {
      "image/png": "[encoded data removed]",
      "text/plain": [
       "<Figure size 820.866x205.217 with 4 Axes>"
      ]
     },
     "metadata": {},
     "output_type": "display_data"
    }
   ],
   "source": [
    "sized_fig(1, 1/4)\n",
    "\n",
    "# Pick a dataset setting\n",
    "r = ratios[-5]\n",
    "l = lengths[-5]        \n",
    "\n",
    "s = datasets\\\n",
    "    .query(f'noise_ratio == {r}')\\\n",
    "    .query(f'branch_length == {l}')\n",
    "\n",
    "ks = mparams\\\n",
    "    .query(f'noise_ratio == {r}')\\\n",
    "    .query(f'branch_length == {l}')\n",
    "\n",
    "fs = fparams\\\n",
    "    .query(f'noise_ratio == {r}')\\\n",
    "    .query(f'branch_length == {l}')\\\n",
    "    .query('branch_detection_method==\"core\"')\\\n",
    "    .query('branch_selection_method==\"leaf\"')\\\n",
    "    .query('min_branch_size==12')\n",
    "\n",
    "hs = hparams\\\n",
    "    .query(f'noise_ratio == {r}')\\\n",
    "    .query(f'branch_length == {l}')\\\n",
    "    .query('cluster_selection_method==\"leaf\"')\\\n",
    "    .query('min_cluster_size==8')\n",
    "\n",
    "# Match colors between branch-subgroups\n",
    "mappings = [\n",
    "    None,\n",
    "    np.array([1, 2, 0]),\n",
    "    np.array([0, 2, 1]),\n",
    "    None,\n",
    "]\n",
    "\n",
    "for i, (alg, ys, remap) in enumerate(zip(['Truth', 'FLASC', 'kMeans', 'HDBSCAN*'], [s.y, fs.labels, ks.labels, hs.labels], mappings)):\n",
    "    plt.subplot(1, 4, i+1)\n",
    "    X = s.X.iloc[4]\n",
    "    y = ys.iloc[4]\n",
    "    if remap is not None:\n",
    "        y = remap[y]\n",
    "    plt.scatter(X.T[0], X.T[1], 0.1, y, cmap='tab10', vmin=0, vmax=9)\n",
    "    plt.title(alg, fontsize=9.5)\n",
    "    frame_off()\n",
    "plt.subplots_adjust(0, 0, 1, 0.9)\n",
    "plt.savefig('./images/branch_stability_labelling_example.pdf', pad_inches=0)\n",
    "plt.show()"
   ]
  },
  {
   "cell_type": "markdown",
   "id": "01ead46c",
   "metadata": {},
   "source": [
    "### Branch detection quality\n",
    "\n",
    "To investigate the quality of the branch segmentations, we investigate the average\n",
    "ARI per *noise--length* combination.\n",
    "\n",
    "For FLASC, we see high values at low noise levels, which decrease as the noise\n",
    "increases. The longer the branches, the stronger the effect of noise. This\n",
    "pattern can be explained by the behaviour of points in the centre. The longer\n",
    "the branches, the more points there are in the center, which are the points that\n",
    "get misclassified because they are closer to another branch's root.\n",
    "\n",
    "kMeans shows a different pattern. Its ARI decreases with branch length and stays\n",
    "stable acrross noise ratios.\n",
    "\n",
    "HDBSCAN* is unable to detect the branches as subgroups (by design) and results\n",
    "in very low ARI regardless of the setting. So we exclude it from the figure."
   ]
  },
  {
   "cell_type": "code",
   "execution_count": 9,
   "id": "49c9ae85",
   "metadata": {},
   "outputs": [],
   "source": [
    "def draw_avg_heatmap(data, *args, **kwargs):\n",
    "    d = data\\\n",
    "        .groupby([args[1], args[0]])[args[2]]\\\n",
    "        .mean()\\\n",
    "        .reset_index()\\\n",
    "        .pivot(index=args[1], columns=args[0], values=args[2])\n",
    "    return sns.heatmap(d, **kwargs)"
   ]
  },
  {
   "cell_type": "code",
   "execution_count": 16,
   "id": "175ecc2a",
   "metadata": {},
   "outputs": [
    {
     "data": {
      "image/png": "[encoded data removed]",
      "text/plain": [
       "<Figure size 410.433x205.217 with 3 Axes>"
      ]
     },
     "metadata": {},
     "output_type": "display_data"
    }
   ],
   "source": [
    "# Specify Colormap and ticks\n",
    "bounds = np.linspace(0, 1, 11)\n",
    "cmap = mpl.colormaps['Blues']\n",
    "norm = BoundaryNorm(bounds, cmap.N)\n",
    "yticks = [0.5, 3.5, 6.5, 9.5]\n",
    "ytick_labels = [ f\"{ratios[int(r)]:.2f}\" for r in yticks ]\n",
    "xticks = [0.5, 3.5, 6.5, 9.5]\n",
    "xtick_labels = [ f\"{int(lengths[int(r)]):d}\" for r in xticks ]\n",
    "\n",
    "sized_fig(1 / 2, 1 / 2)\n",
    "fig = plt.gcf()\n",
    "fig.subplots(1, 3, width_ratios=[1, 1, 0.1])\n",
    "\n",
    "mset = mparams[['repeat','noise_ratio', 'branch_length', 'algorithm', 'ari']]\n",
    "fset = fparams\\\n",
    "    .query('min_branch_size == 12 & branch_selection_method==\"leaf\" & branch_detection_method==\"core\"')\\\n",
    "    [['repeat','noise_ratio', 'branch_length', 'algorithm', 'ari']]\n",
    "\n",
    "\n",
    "plt.subplot(1, 3, 1)\n",
    "draw_avg_heatmap(\n",
    "    fset.rename(**display_names),\n",
    "    'Branch length', 'Noise ratio', 'ARI',\n",
    "    cmap=cmap, norm=norm, cbar=False\n",
    ")\n",
    "\n",
    "plt.title('FLASC', fontsize=9.5)\n",
    "plt.gca().invert_yaxis()\n",
    "plt.yticks(yticks)\n",
    "plt.xticks(xticks)\n",
    "plt.gca().set_yticklabels(ytick_labels)\n",
    "plt.gca().set_xticklabels(xtick_labels)\n",
    "\n",
    "plt.subplot(1, 3, 2)\n",
    "draw_avg_heatmap(\n",
    "    mset.rename(**display_names),\n",
    "    'Branch length', 'Noise ratio', 'ARI',\n",
    "    cmap=cmap, norm=norm, cbar=False\n",
    ")\n",
    "plt.title('kMeans', fontsize=9.5)\n",
    "plt.gca().invert_yaxis()\n",
    "plt.yticks(yticks)\n",
    "plt.xticks(xticks)\n",
    "plt.ylabel('')\n",
    "plt.gca().set_yticklabels(['' for _ in ytick_labels])\n",
    "plt.gca().set_xticklabels(xtick_labels)\n",
    "\n",
    "ax = plt.subplot(1, 3, 3)\n",
    "sm = plt.cm.ScalarMappable(cmap=cmap, norm=norm)\n",
    "sm.set_array([])\n",
    "plt.colorbar(sm, cax=ax, label='avg ARI')\n",
    "\n",
    "plt.subplots_adjust(0.17, 0.28, 0.84, 0.86)\n",
    "plt.savefig('./images/branch_stability_heatmap_avg_ari.pdf', pad_inches=0)\n",
    "plt.show()"
   ]
  },
  {
   "cell_type": "markdown",
   "id": "8db52f53",
   "metadata": {},
   "source": [
    "### Branch detection stability\n",
    "\n",
    "An important aspect of a clustering algorithm is the stability. It should not\n",
    "only accurately describe the underlying data's structure, it should also give\n",
    "similar outputs on similar data set. In this section, we try to compare and\n",
    "visualize this stability using the centroid spread.\n",
    "\n",
    "The overall pattern is similar to the ARI heatmaps. For FLASC, The spread\n",
    "increases with noise and that effect is stronger for larger branch lengths. For\n",
    "kMeans, the centroid spread decreases with both the noise ratio and the branch\n",
    "length, resulting in good performance only when both are low."
   ]
  },
  {
   "cell_type": "code",
   "execution_count": 17,
   "id": "842be611",
   "metadata": {},
   "outputs": [
    {
     "data": {
      "image/png": "[encoded data removed]",
      "text/plain": [
       "<Figure size 410.433x205.217 with 3 Axes>"
      ]
     },
     "metadata": {},
     "output_type": "display_data"
    }
   ],
   "source": [
    "bounds = np.linspace(0, 1/4, 11)\n",
    "norm = BoundaryNorm(bounds, cmap.N)\n",
    "yticks = [0.5, 3.5, 6.5, 9.5]\n",
    "ytick_labels = [ f\"{ratios[int(r)]:.2f}\" for r in yticks ]\n",
    "xticks = [0.5, 3.5, 6.5, 9.5]\n",
    "xtick_labels = [ f\"{int(lengths[int(r)]):d}\" for r in xticks ]\n",
    "\n",
    "sized_fig(1 / 2, 1 / 2)\n",
    "fig = plt.gcf()\n",
    "fig.subplots(1, 3, width_ratios=[1, 1, 0.1])\n",
    "\n",
    "kset = kgrouped\\\n",
    "    .groupby(['branch_length', 'noise_ratio']) \\\n",
    "    .agg(centroid_spread=pd.NamedAgg(\n",
    "        column=\"centroid_spread\", \n",
    "        aggfunc=lambda x: np.percentile(x.iloc[0], 95)\n",
    "    )) \\\n",
    "    .reset_index() \\\n",
    "    .rename(**display_names)\n",
    "fset = fgrouped\\\n",
    "        .query(\n",
    "            'min_branch_size == 12 & '\n",
    "            'branch_detection_method==\"core\" & '\n",
    "            'branch_selection_method==\"leaf\"'\n",
    "        )\\\n",
    "        .groupby(['branch_length', 'noise_ratio']) \\\n",
    "        .agg(centroid_spread=pd.NamedAgg(\n",
    "            column=\"centroid_spread\", \n",
    "            aggfunc=lambda x: np.percentile(x.iloc[0], 95)\n",
    "        )) \\\n",
    "        .reset_index() \\\n",
    "        .rename(**display_names)\n",
    "\n",
    "plt.subplot(1, 3, 1)\n",
    "draw_avg_heatmap(\n",
    "    fset, 'Branch length', 'Noise ratio', 'Centroid spread',\n",
    "    cmap=cmap, norm=norm, cbar=False\n",
    ")\n",
    "plt.title('FLASC', fontsize=9.5)\n",
    "plt.gca().invert_yaxis()\n",
    "\n",
    "plt.yticks(yticks)\n",
    "plt.xticks(xticks)\n",
    "plt.gca().set_yticklabels(ytick_labels)\n",
    "plt.gca().set_xticklabels(xtick_labels)\n",
    "\n",
    "plt.subplot(1, 3, 2)\n",
    "draw_avg_heatmap(\n",
    "    kset, 'Branch length', 'Noise ratio', 'Centroid spread',\n",
    "    cmap=cmap, norm=norm, cbar=False\n",
    ")\n",
    "plt.title('kMeans', fontsize=9.5)\n",
    "plt.gca().invert_yaxis()\n",
    "plt.yticks(yticks)\n",
    "plt.xticks(xticks)\n",
    "plt.ylabel('')\n",
    "plt.gca().set_yticklabels(['' for _ in ytick_labels])\n",
    "plt.gca().set_xticklabels(xtick_labels)\n",
    "\n",
    "ax = plt.subplot(1, 3, 3)\n",
    "sm = plt.cm.ScalarMappable(cmap=cmap, norm=norm)\n",
    "sm.set_array([])\n",
    "plt.colorbar(sm, cax=ax, label='$95\\%$ spread ($b_l$)')\n",
    "\n",
    "\n",
    "# Adjust spacing and save\n",
    "plt.subplots_adjust(0.17, 0.28, 0.82, 0.86)\n",
    "plt.savefig('./images/branch_stability_heatmap_centroid_spread.pdf', pad_inches=0)\n",
    "plt.show()"
   ]
  }
 ],
 "metadata": {
  "kernelspec": {
   "display_name": "Python 3 (ipykernel)",
   "language": "python",
   "name": "python3"
  },
  "language_info": {
   "codemirror_mode": {
    "name": "ipython",
    "version": 3
   },
   "file_extension": ".py",
   "mimetype": "text/x-python",
   "name": "python",
   "nbconvert_exporter": "python",
   "pygments_lexer": "ipython3",
   "version": "3.9.19"
  },
  "vscode": {
   "interpreter": {
    "hash": "6a1077261ab4d1b8e53d9a7a690f26e8ceb317deb4219ac2acc5c8f39186782d"
   }
  }
 },
 "nbformat": 4,
 "nbformat_minor": 5
}
